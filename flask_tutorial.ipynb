{
 "cells": [
  {
   "cell_type": "markdown",
   "id": "83429fc9",
   "metadata": {},
   "source": [
    "## Flask Framework"
   ]
  },
  {
   "cell_type": "markdown",
   "id": "46690c0c",
   "metadata": {},
   "source": [
    "### 📌 1. Theory\n",
    "| **Concept**                               | **Details**                                                                                                                                                                                                                                                              |\n",
    "| ----------------------------------------- | ------------------------------------------------------------------------------------------------------------------------------------------------------------------------------------------------------------------------------------------------------------------------ |\n",
    "| **What is Flask?**                        | Flask is a lightweight, micro web framework written in Python. It is designed to be simple, flexible, and easy to use, making it an excellent choice for small to medium-sized web applications and REST APIs.                                                           |\n",
    "| **Why is it called a \"micro\" framework?** | Flask does not include built-in ORM, form validation, or other components provided by full-stack frameworks like Django. Instead, it offers only the essentials (routing, templates, request/response handling) and allows developers to integrate extensions as needed. |\n",
    "| **Key Features**                          | - Lightweight and modular<br>- Built-in development server and debugger<br>- RESTful request handling<br>- Integrated Jinja2 templating<br>- Extensive extension support                                                                                                 |\n",
    "| **Common Use Cases**                      | - Building REST APIs<br>- Creating web applications<br>- Integrating ML models with a web interface<br>- Prototyping microservices                                                                                                                                       |\n"
   ]
  },
  {
   "cell_type": "markdown",
   "id": "63464185",
   "metadata": {},
   "source": [
    "### 📌 2. Coding Example – Hello World Application"
   ]
  },
  {
   "cell_type": "code",
   "execution_count": 1,
   "id": "0af37721",
   "metadata": {},
   "outputs": [
    {
     "name": "stdout",
     "output_type": "stream",
     "text": [
      " * Serving Flask app '__main__'\n",
      " * Debug mode: on\n"
     ]
    },
    {
     "name": "stderr",
     "output_type": "stream",
     "text": [
      "WARNING: This is a development server. Do not use it in a production deployment. Use a production WSGI server instead.\n",
      " * Running on http://127.0.0.1:5000\n",
      "Press CTRL+C to quit\n",
      " * Restarting with watchdog (windowsapi)\n"
     ]
    },
    {
     "ename": "SystemExit",
     "evalue": "1",
     "output_type": "error",
     "traceback": [
      "An exception has occurred, use %tb to see the full traceback.\n",
      "\u001b[31mSystemExit\u001b[39m\u001b[31m:\u001b[39m 1\n"
     ]
    },
    {
     "name": "stderr",
     "output_type": "stream",
     "text": [
      "C:\\Users\\Suraj Khodade\\AppData\\Roaming\\Python\\Python311\\site-packages\\IPython\\core\\interactiveshell.py:3707: UserWarning: To exit: use 'exit', 'quit', or Ctrl-D.\n",
      "  warn(\"To exit: use 'exit', 'quit', or Ctrl-D.\", stacklevel=1)\n"
     ]
    }
   ],
   "source": [
    "# Import the Flask class\n",
    "from flask import Flask\n",
    "\n",
    "# Create a Flask application instance\n",
    "app = Flask(__name__)\n",
    "\n",
    "# Define a route using a decorator\n",
    "@app.route('/')\n",
    "def home():\n",
    "    return \"Hello, Flask! Your first web app is running successfully.\"\n",
    "\n",
    "# Run the Flask application\n",
    "if __name__ == '__main__':\n",
    "    app.run(debug=True)\n"
   ]
  },
  {
   "cell_type": "markdown",
   "id": "c063eea0",
   "metadata": {},
   "source": [
    "### 📌 3. Interview Questions & Answers\n",
    "| **Question**                                              | **Answer**                                                                                                                                                                                                |\n",
    "| --------------------------------------------------------- | --------------------------------------------------------------------------------------------------------------------------------------------------------------------------------------------------------- |\n",
    "| **1. What is Flask, and how does it differ from Django?** | Flask is a micro-framework, lightweight, and minimal, giving developers flexibility to add components as needed. Django is a full-stack framework with built-in ORM, authentication, and admin interface. |\n",
    "| **2. Why is Flask popular in AI/ML applications?**        | Flask’s simplicity allows easy integration of machine learning models into web applications or APIs with minimal overhead.                                                                                |\n",
    "| **3. Explain the role of `app.route` in Flask.**          | `@app.route` is a decorator that binds a URL to a Python function, enabling URL routing.                                                                                                                  |\n",
    "| **4. What is the default port for Flask applications?**   | The default port is **5000**, but it can be changed using `app.run(port=xxxx)`.                                                                                                                           |\n",
    "| **5. Can Flask be used for production?**                  | Yes, but it should be run with a production-ready WSGI server like **Gunicorn** or **uWSGI**, not the built-in development server.                                                                        |\n"
   ]
  },
  {
   "cell_type": "markdown",
   "id": "06f1f31a",
   "metadata": {},
   "source": [
    "## Flask Architecture & Request-Response Cycle\n",
    "| **Concept**                     | **Details**                                                                                                                                                                                                                                                                                                                                                                                                      |\n",
    "| ------------------------------- | ---------------------------------------------------------------------------------------------------------------------------------------------------------------------------------------------------------------------------------------------------------------------------------------------------------------------------------------------------------------------------------------------------------------- |\n",
    "| **Flask Architecture Overview** | Flask follows a modular architecture with components that interact to handle web requests and responses efficiently. It is based on the **Werkzeug** WSGI toolkit and **Jinja2** templating engine.                                                                                                                                                                                                              |\n",
    "| **Core Components**             | - **WSGI (Werkzeug):** Handles communication between the web server and the Flask app.<br>- **Routing:** Maps URLs to Python functions (views).<br>- **Templates (Jinja2):** Renders dynamic HTML.<br>- **Request & Response Objects:** Encapsulate HTTP request/response data.<br>- **Extensions:** Add extra functionality like database handling, authentication, etc.                                        |\n",
    "| **Request-Response Cycle**      | The process that occurs when a client (browser) sends an HTTP request to a Flask server, and the server returns a response.                                                                                                                                                                                                                                                                                      |\n",
    "| **Steps in the Cycle**          | 1. **Client Sends Request** → Browser sends an HTTP request.<br>2. **WSGI Server Receives Request** → Forwards it to Flask.<br>3. **Flask Routing** → Matches URL with a defined route.<br>4. **View Function Execution** → Executes corresponding Python function.<br>5. **Response Creation** → Returns an HTTP response (HTML/JSON/text).<br>6. **Client Receives Response** → Browser displays the response. |\n",
    "\n",
    "### Interview Questions & Answers\n",
    "\n",
    "| **Question**                                                          | **Answer**                                                                                                                                                                  |\n",
    "| --------------------------------------------------------------------- | --------------------------------------------------------------------------------------------------------------------------------------------------------------------------- |\n",
    "| **1. Explain the Flask request-response cycle.**                      | The client sends an HTTP request → WSGI server forwards it to Flask → Flask matches route → Executes view function → Returns an HTTP response to the client.                |\n",
    "| **2. What is WSGI, and why is it important in Flask?**                | **WSGI (Web Server Gateway Interface)** is a Python standard for web servers to communicate with web applications. Flask uses Werkzeug (a WSGI toolkit) to handle requests. |\n",
    "| **3. What is the role of `request` and `response` objects in Flask?** | `request` holds data from the client (headers, data, method), while `response` defines what Flask sends back to the client (status code, headers, data).                    |\n",
    "| **4. What is a view function in Flask?**                              | A Python function mapped to a specific URL route using `@app.route` that processes requests and returns responses.                                                          |\n",
    "| **5. Can Flask handle both GET and POST requests in the same route?** | Yes, by specifying `methods=['GET','POST']` in the route decorator.                                                                                                         |\n"
   ]
  },
  {
   "cell_type": "code",
   "execution_count": null,
   "id": "6a327028",
   "metadata": {},
   "outputs": [],
   "source": [
    "from flask import Flask, request, jsonify\n",
    "\n",
    "app = Flask(__name__)\n",
    "\n",
    "# Route to demonstrate Request and Response\n",
    "@app.route('/info', methods=['GET', 'POST'])\n",
    "def info():\n",
    "    if request.method == 'GET':\n",
    "        return \"This is a GET request. Send a POST request to submit data.\"\n",
    "    elif request.method == 'POST':\n",
    "        data = request.json\n",
    "        return jsonify({\"message\": \"Data received successfully!\", \"your_data\": data})\n",
    "\n",
    "if __name__ == '__main__':\n",
    "    app.run(debug=True)\n"
   ]
  },
  {
   "cell_type": "markdown",
   "id": "8eb0ba22",
   "metadata": {},
   "source": [
    "## 🟢 Flask Templates: Accessing Templates, Passing Values/JSON, and Using if-else & for loops in HTML\n",
    "\n",
    "### 📝 THEORY \n",
    "\n",
    "| **Concept** | **Details** |\n",
    "|-------------|-------------|\n",
    "| **What are Templates in Flask?** | Templates are HTML files that allow dynamic content rendering using variables and control structures. Flask uses **Jinja2** for templating. |\n",
    "| **Template Location** | Templates must be placed inside a **`templates/`** folder. |\n",
    "| **Passing Data to Templates** | Use `render_template()` to pass data (strings, numbers, lists, JSON objects) to templates. |\n",
    "| **Control Structures** | `{% if %}`, `{% for %}`, `{% else %}` allow logic in templates. |\n",
    "| **Variable Access** | Use `{{ variable_name }}` to display variables. |\n",
    "\"\"\"\n",
    "\n",
    "\n",
    "### ✅ Example 1: Passing Values to Template\n",
    "### (Save this as app.py when running Flask outside Jupyter)\n",
    "\n",
    "flask_code_1 = \"\"\"\n",
    "from flask import Flask, render_template\n",
    "\n",
    "app = Flask(__name__)\n",
    "\n",
    "@app.route('/user/<name>')\n",
    "def user_profile(name):\n",
    "    age = 25\n",
    "    skills = [\"Python\", \"Flask\", \"Machine Learning\"]\n",
    "    return render_template('profile.html', username=name, user_age=age, skillset=skills)\n",
    "\n",
    "if __name__ == '__main__':\n",
    "    app.run(debug=True)\n",
    "\"\"\"\n",
    "\n",
    "print(flask_code_1)\n",
    "\n",
    "<!-- ✅ Template: templates/profile.html -->\n",
    "\n",
    "<!DOCTYPE html>\n",
    "<html>\n",
    "<head>\n",
    "    <title>User Profile</title>\n",
    "</head>\n",
    "<body>\n",
    "    <h1>Welcome, {{ username }}!</h1>\n",
    "    <p>Age: {{ user_age }}</p>\n",
    "\n",
    "    <h2>Skills:</h2>\n",
    "    <ul>\n",
    "        {% for skill in skillset %}\n",
    "            <li>{{ skill }}</li>\n",
    "        {% endfor %}\n",
    "    </ul>\n",
    "</body>\n",
    "</html>\n",
    "\n",
    "### ✅ Example 2: Passing JSON / Dictionary to Template\n",
    "\n",
    "flask_code_2 = \"\"\"\n",
    "@app.route('/json')\n",
    "def json_example():\n",
    "    user = {\n",
    "        \"name\": \"Suraj\",\n",
    "        \"role\": \"AI/ML Engineer\",\n",
    "        \"skills\": [\"Python\", \"Flask\", \"NLP\"]\n",
    "    }\n",
    "    return render_template('user_json.html', user=user)\n",
    "\"\"\"\n",
    "\n",
    "print(flask_code_2)\n",
    "\n",
    "<!-- ✅ Template: templates/user_json.html -->\n",
    "\n",
    "<h1>User Information</h1>\n",
    "<p>Name: {{ user.name }}</p>\n",
    "<p>Role: {{ user.role }}</p>\n",
    "<h3>Skills:</h3>\n",
    "<ul>\n",
    "    {% for skill in user.skills %}\n",
    "        <li>{{ skill }}</li>\n",
    "    {% endfor %}\n",
    "</ul>\n",
    "\n",
    "### ✅ Example 3: If-Else & For Loop in Templates\n",
    "\n",
    "example_if_for = \"\"\"\n",
    "{% if user_age >= 18 %}\n",
    "    <p>{{ username }} is an Adult.</p>\n",
    "{% else %}\n",
    "    <p>{{ username }} is a Minor.</p>\n",
    "{% endif %}\n",
    "\n",
    "<ul>\n",
    "    {% for skill, level in skills.items() %}\n",
    "        <li>{{ skill }} - \n",
    "            {% if level >= 80 %} Expert\n",
    "            {% elif level >= 50 %} Intermediate\n",
    "            {% else %} Beginner\n",
    "            {% endif %}\n",
    "        </li>\n",
    "    {% endfor %}\n",
    "</ul>\n",
    "\"\"\"\n",
    "\n",
    "print(example_if_for)\n",
    "\n",
    "### ✅ Interview Questions & Answers\n",
    "\n",
    "qa = \"\"\"\n",
    "| **Question** | **Answer** |\n",
    "|--------------|------------|\n",
    "| **1. What is Jinja2 in Flask?** | Jinja2 is the templating engine for rendering dynamic HTML in Flask. |\n",
    "| **2. How do you pass data to a template?** | Using `render_template('file.html', variable=value)`. |\n",
    "| **3. What is the difference between `{{ }}` and `{% %}`?** | `{{ }}` is for outputting values; `{% %}` is for control logic (loops, conditions). |\n",
    "| **4. Can you pass JSON to templates?** | Yes, dictionaries/lists can be passed directly. |\n",
    "| **5. Why use templates?** | To separate logic (Python) from presentation (HTML). |\n",
    "\"\"\"\n",
    "display(Markdown(qa))\n",
    "\n",
    "\n"
   ]
  },
  {
   "cell_type": "markdown",
   "id": "69ff7c64",
   "metadata": {},
   "source": [
    "<!-- ✅ Template: templates/profile.html -->\n",
    "\n",
    "<!DOCTYPE html>\n",
    "<html>\n",
    "<head>\n",
    "    <title>User Profile</title>\n",
    "</head>\n",
    "<body>\n",
    "    <h1>Welcome, {{ username }}!</h1>\n",
    "    <p>Age: {{ user_age }}</p>\n",
    "\n",
    "    <h2>Skills:</h2>\n",
    "    <ul>\n",
    "        {% for skill in skillset %}\n",
    "            <li>{{ skill }}</li>\n",
    "        {% endfor %}\n",
    "    </ul>\n",
    "</body>\n",
    "</html>\n"
   ]
  },
  {
   "cell_type": "markdown",
   "id": "adb7fb98",
   "metadata": {},
   "source": []
  }
 ],
 "metadata": {
  "kernelspec": {
   "display_name": "Python 3",
   "language": "python",
   "name": "python3"
  },
  "language_info": {
   "codemirror_mode": {
    "name": "ipython",
    "version": 3
   },
   "file_extension": ".py",
   "mimetype": "text/x-python",
   "name": "python",
   "nbconvert_exporter": "python",
   "pygments_lexer": "ipython3",
   "version": "3.11.0"
  }
 },
 "nbformat": 4,
 "nbformat_minor": 5
}
