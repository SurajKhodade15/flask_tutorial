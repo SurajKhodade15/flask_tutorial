{
 "cells": [
  {
   "cell_type": "markdown",
   "id": "83429fc9",
   "metadata": {},
   "source": [
    "## Flask Framework"
   ]
  },
  {
   "cell_type": "markdown",
   "id": "46690c0c",
   "metadata": {},
   "source": [
    "### 📌 1. Theory\n",
    "| **Concept**                               | **Details**                                                                                                                                                                                                                                                              |\n",
    "| ----------------------------------------- | ------------------------------------------------------------------------------------------------------------------------------------------------------------------------------------------------------------------------------------------------------------------------ |\n",
    "| **What is Flask?**                        | Flask is a lightweight, micro web framework written in Python. It is designed to be simple, flexible, and easy to use, making it an excellent choice for small to medium-sized web applications and REST APIs.                                                           |\n",
    "| **Why is it called a \"micro\" framework?** | Flask does not include built-in ORM, form validation, or other components provided by full-stack frameworks like Django. Instead, it offers only the essentials (routing, templates, request/response handling) and allows developers to integrate extensions as needed. |\n",
    "| **Key Features**                          | - Lightweight and modular<br>- Built-in development server and debugger<br>- RESTful request handling<br>- Integrated Jinja2 templating<br>- Extensive extension support                                                                                                 |\n",
    "| **Common Use Cases**                      | - Building REST APIs<br>- Creating web applications<br>- Integrating ML models with a web interface<br>- Prototyping microservices                                                                                                                                       |\n"
   ]
  },
  {
   "cell_type": "markdown",
   "id": "63464185",
   "metadata": {},
   "source": [
    "### 📌 2. Coding Example – Hello World Application"
   ]
  },
  {
   "cell_type": "code",
   "execution_count": 1,
   "id": "0af37721",
   "metadata": {},
   "outputs": [
    {
     "name": "stdout",
     "output_type": "stream",
     "text": [
      " * Serving Flask app '__main__'\n",
      " * Debug mode: on\n"
     ]
    },
    {
     "name": "stderr",
     "output_type": "stream",
     "text": [
      "WARNING: This is a development server. Do not use it in a production deployment. Use a production WSGI server instead.\n",
      " * Running on http://127.0.0.1:5000\n",
      "Press CTRL+C to quit\n",
      " * Restarting with watchdog (windowsapi)\n"
     ]
    },
    {
     "ename": "SystemExit",
     "evalue": "1",
     "output_type": "error",
     "traceback": [
      "An exception has occurred, use %tb to see the full traceback.\n",
      "\u001b[31mSystemExit\u001b[39m\u001b[31m:\u001b[39m 1\n"
     ]
    },
    {
     "name": "stderr",
     "output_type": "stream",
     "text": [
      "C:\\Users\\Suraj Khodade\\AppData\\Roaming\\Python\\Python311\\site-packages\\IPython\\core\\interactiveshell.py:3707: UserWarning: To exit: use 'exit', 'quit', or Ctrl-D.\n",
      "  warn(\"To exit: use 'exit', 'quit', or Ctrl-D.\", stacklevel=1)\n"
     ]
    }
   ],
   "source": [
    "# Import the Flask class\n",
    "from flask import Flask\n",
    "\n",
    "# Create a Flask application instance\n",
    "app = Flask(__name__)\n",
    "\n",
    "# Define a route using a decorator\n",
    "@app.route('/')\n",
    "def home():\n",
    "    return \"Hello, Flask! Your first web app is running successfully.\"\n",
    "\n",
    "# Run the Flask application\n",
    "if __name__ == '__main__':\n",
    "    app.run(debug=True)\n"
   ]
  },
  {
   "cell_type": "markdown",
   "id": "c063eea0",
   "metadata": {},
   "source": [
    "### 📌 3. Interview Questions & Answers\n",
    "| **Question**                                              | **Answer**                                                                                                                                                                                                |\n",
    "| --------------------------------------------------------- | --------------------------------------------------------------------------------------------------------------------------------------------------------------------------------------------------------- |\n",
    "| **1. What is Flask, and how does it differ from Django?** | Flask is a micro-framework, lightweight, and minimal, giving developers flexibility to add components as needed. Django is a full-stack framework with built-in ORM, authentication, and admin interface. |\n",
    "| **2. Why is Flask popular in AI/ML applications?**        | Flask’s simplicity allows easy integration of machine learning models into web applications or APIs with minimal overhead.                                                                                |\n",
    "| **3. Explain the role of `app.route` in Flask.**          | `@app.route` is a decorator that binds a URL to a Python function, enabling URL routing.                                                                                                                  |\n",
    "| **4. What is the default port for Flask applications?**   | The default port is **5000**, but it can be changed using `app.run(port=xxxx)`.                                                                                                                           |\n",
    "| **5. Can Flask be used for production?**                  | Yes, but it should be run with a production-ready WSGI server like **Gunicorn** or **uWSGI**, not the built-in development server.                                                                        |\n"
   ]
  },
  {
   "cell_type": "markdown",
   "id": "06f1f31a",
   "metadata": {},
   "source": []
  }
 ],
 "metadata": {
  "kernelspec": {
   "display_name": "Python 3",
   "language": "python",
   "name": "python3"
  },
  "language_info": {
   "codemirror_mode": {
    "name": "ipython",
    "version": 3
   },
   "file_extension": ".py",
   "mimetype": "text/x-python",
   "name": "python",
   "nbconvert_exporter": "python",
   "pygments_lexer": "ipython3",
   "version": "3.11.0"
  }
 },
 "nbformat": 4,
 "nbformat_minor": 5
}
